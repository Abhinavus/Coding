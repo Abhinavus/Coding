{
  "nbformat": 4,
  "nbformat_minor": 0,
  "metadata": {
    "colab": {
      "provenance": [],
      "gpuType": "T4",
      "authorship_tag": "ABX9TyOdnsME6rp/1qVgng39+/hK",
      "include_colab_link": true
    },
    "kernelspec": {
      "name": "python3",
      "display_name": "Python 3"
    },
    "language_info": {
      "name": "python"
    },
    "accelerator": "GPU"
  },
  "cells": [
    {
      "cell_type": "markdown",
      "metadata": {
        "id": "view-in-github",
        "colab_type": "text"
      },
      "source": [
        "<a href=\"https://colab.research.google.com/github/Abhinavus/Coding/blob/main/project.ipynb\" target=\"_parent\"><img src=\"https://colab.research.google.com/assets/colab-badge.svg\" alt=\"Open In Colab\"/></a>"
      ]
    },
    {
      "cell_type": "code",
      "source": [
        "!git clone https://github.com/brijeshiitg/Pytorch-implementation-of-SRNet"
      ],
      "metadata": {
        "colab": {
          "base_uri": "https://localhost:8080/"
        },
        "id": "u0K2gvx7pHmy",
        "outputId": "c8c3d46c-f6ff-448e-dffa-a4aa19897308"
      },
      "execution_count": 1,
      "outputs": [
        {
          "output_type": "stream",
          "name": "stdout",
          "text": [
            "Cloning into 'Pytorch-implementation-of-SRNet'...\n",
            "remote: Enumerating objects: 111, done.\u001b[K\n",
            "remote: Counting objects: 100% (50/50), done.\u001b[K\n",
            "remote: Compressing objects: 100% (36/36), done.\u001b[K\n",
            "remote: Total 111 (delta 13), reused 43 (delta 8), pack-reused 61\u001b[K\n",
            "Receiving objects: 100% (111/111), 48.97 MiB | 14.01 MiB/s, done.\n",
            "Resolving deltas: 100% (35/35), done.\n"
          ]
        }
      ]
    },
    {
      "cell_type": "code",
      "source": [
        "%cd /content/Pytorch-implementation-of-SRNet"
      ],
      "metadata": {
        "colab": {
          "base_uri": "https://localhost:8080/"
        },
        "id": "db6JdwjHpPjA",
        "outputId": "63a76e6c-c538-46bd-da85-824826647169"
      },
      "execution_count": null,
      "outputs": [
        {
          "output_type": "stream",
          "name": "stdout",
          "text": [
            "/content/Pytorch-implementation-of-SRNet\n"
          ]
        }
      ]
    },
    {
      "cell_type": "code",
      "source": [
        "!git clone https://github.com/brijeshiitg/Toy-Bossbase-dataset"
      ],
      "metadata": {
        "colab": {
          "base_uri": "https://localhost:8080/"
        },
        "id": "RUhcTVNBpZGl",
        "outputId": "bbe7c05b-954b-4ca5-89da-4be3a9cc1b41"
      },
      "execution_count": null,
      "outputs": [
        {
          "output_type": "stream",
          "name": "stdout",
          "text": [
            "Cloning into 'Toy-Bossbase-dataset'...\n",
            "remote: Enumerating objects: 6, done.\u001b[K\n",
            "remote: Total 6 (delta 0), reused 0 (delta 0), pack-reused 6\u001b[K\n",
            "Receiving objects: 100% (6/6), 3.57 MiB | 26.47 MiB/s, done.\n"
          ]
        }
      ]
    },
    {
      "cell_type": "code",
      "source": [
        "%cd /content/Pytorch-implementation-of-SRNet/Toy-Bossbase-dataset\n",
        "!unzip bossbase_toy_dataset.zip"
      ],
      "metadata": {
        "colab": {
          "base_uri": "https://localhost:8080/"
        },
        "id": "i8C770ENZ9f3",
        "outputId": "85453622-63c2-4c1d-fb2b-e46b16c65b04"
      },
      "execution_count": null,
      "outputs": [
        {
          "output_type": "stream",
          "name": "stdout",
          "text": [
            "/content/Pytorch-implementation-of-SRNet/Toy-Bossbase-dataset\n",
            "Archive:  bossbase_toy_dataset.zip\n",
            "   creating: bossbase_toy_dataset/\n",
            "   creating: bossbase_toy_dataset/valid/\n",
            "   creating: bossbase_toy_dataset/valid/cover/\n",
            "  inflating: bossbase_toy_dataset/valid/cover/33.pgm  \n",
            "  inflating: bossbase_toy_dataset/valid/cover/35.pgm  \n",
            "  inflating: bossbase_toy_dataset/valid/cover/34.pgm  \n",
            "  inflating: bossbase_toy_dataset/valid/cover/40.pgm  \n",
            "  inflating: bossbase_toy_dataset/valid/cover/36.pgm  \n",
            "  inflating: bossbase_toy_dataset/valid/cover/38.pgm  \n",
            "  inflating: bossbase_toy_dataset/valid/cover/32.pgm  \n",
            "  inflating: bossbase_toy_dataset/valid/cover/31.pgm  \n",
            "  inflating: bossbase_toy_dataset/valid/cover/37.pgm  \n",
            "  inflating: bossbase_toy_dataset/valid/cover/39.pgm  \n",
            "   creating: bossbase_toy_dataset/valid/stego/\n",
            "  inflating: bossbase_toy_dataset/valid/stego/33.pgm  \n",
            "  inflating: bossbase_toy_dataset/valid/stego/35.pgm  \n",
            "  inflating: bossbase_toy_dataset/valid/stego/34.pgm  \n",
            "  inflating: bossbase_toy_dataset/valid/stego/40.pgm  \n",
            "  inflating: bossbase_toy_dataset/valid/stego/36.pgm  \n",
            "  inflating: bossbase_toy_dataset/valid/stego/38.pgm  \n",
            "  inflating: bossbase_toy_dataset/valid/stego/32.pgm  \n",
            "  inflating: bossbase_toy_dataset/valid/stego/31.pgm  \n",
            "  inflating: bossbase_toy_dataset/valid/stego/37.pgm  \n",
            "  inflating: bossbase_toy_dataset/valid/stego/39.pgm  \n",
            "   creating: bossbase_toy_dataset/train/\n",
            "   creating: bossbase_toy_dataset/train/cover/\n",
            "  inflating: bossbase_toy_dataset/train/cover/8.pgm  \n",
            "  inflating: bossbase_toy_dataset/train/cover/4.pgm  \n",
            "  inflating: bossbase_toy_dataset/train/cover/13.pgm  \n",
            "  inflating: bossbase_toy_dataset/train/cover/10.pgm  \n",
            "  inflating: bossbase_toy_dataset/train/cover/12.pgm  \n",
            "  inflating: bossbase_toy_dataset/train/cover/11.pgm  \n",
            "  inflating: bossbase_toy_dataset/train/cover/19.pgm  \n",
            "  inflating: bossbase_toy_dataset/train/cover/5.pgm  \n",
            "  inflating: bossbase_toy_dataset/train/cover/9.pgm  \n",
            "  inflating: bossbase_toy_dataset/train/cover/7.pgm  \n",
            "  inflating: bossbase_toy_dataset/train/cover/6.pgm  \n",
            "  inflating: bossbase_toy_dataset/train/cover/1.pgm  \n",
            "  inflating: bossbase_toy_dataset/train/cover/2.pgm  \n",
            "  inflating: bossbase_toy_dataset/train/cover/17.pgm  \n",
            "  inflating: bossbase_toy_dataset/train/cover/16.pgm  \n",
            "  inflating: bossbase_toy_dataset/train/cover/15.pgm  \n",
            "  inflating: bossbase_toy_dataset/train/cover/18.pgm  \n",
            "  inflating: bossbase_toy_dataset/train/cover/20.pgm  \n",
            "  inflating: bossbase_toy_dataset/train/cover/14.pgm  \n",
            "  inflating: bossbase_toy_dataset/train/cover/3.pgm  \n",
            "   creating: bossbase_toy_dataset/train/stego/\n",
            "  inflating: bossbase_toy_dataset/train/stego/8.pgm  \n",
            "  inflating: bossbase_toy_dataset/train/stego/4.pgm  \n",
            "  inflating: bossbase_toy_dataset/train/stego/13.pgm  \n",
            "  inflating: bossbase_toy_dataset/train/stego/10.pgm  \n",
            "  inflating: bossbase_toy_dataset/train/stego/12.pgm  \n",
            "  inflating: bossbase_toy_dataset/train/stego/11.pgm  \n",
            "  inflating: bossbase_toy_dataset/train/stego/19.pgm  \n",
            "  inflating: bossbase_toy_dataset/train/stego/5.pgm  \n",
            "  inflating: bossbase_toy_dataset/train/stego/9.pgm  \n",
            "  inflating: bossbase_toy_dataset/train/stego/7.pgm  \n",
            "  inflating: bossbase_toy_dataset/train/stego/6.pgm  \n",
            "  inflating: bossbase_toy_dataset/train/stego/1.pgm  \n",
            "  inflating: bossbase_toy_dataset/train/stego/2.pgm  \n",
            "  inflating: bossbase_toy_dataset/train/stego/17.pgm  \n",
            "  inflating: bossbase_toy_dataset/train/stego/16.pgm  \n",
            "  inflating: bossbase_toy_dataset/train/stego/15.pgm  \n",
            "  inflating: bossbase_toy_dataset/train/stego/18.pgm  \n",
            "  inflating: bossbase_toy_dataset/train/stego/20.pgm  \n",
            "  inflating: bossbase_toy_dataset/train/stego/14.pgm  \n",
            "  inflating: bossbase_toy_dataset/train/stego/3.pgm  \n",
            "   creating: bossbase_toy_dataset/test/\n",
            "   creating: bossbase_toy_dataset/test/cover/\n",
            "  inflating: bossbase_toy_dataset/test/cover/47.pgm  \n",
            "  inflating: bossbase_toy_dataset/test/cover/48.pgm  \n",
            "  inflating: bossbase_toy_dataset/test/cover/45.pgm  \n",
            "  inflating: bossbase_toy_dataset/test/cover/41.pgm  \n",
            "  inflating: bossbase_toy_dataset/test/cover/44.pgm  \n",
            "  inflating: bossbase_toy_dataset/test/cover/43.pgm  \n",
            "  inflating: bossbase_toy_dataset/test/cover/50.pgm  \n",
            "  inflating: bossbase_toy_dataset/test/cover/42.pgm  \n",
            "  inflating: bossbase_toy_dataset/test/cover/49.pgm  \n",
            "  inflating: bossbase_toy_dataset/test/cover/46.pgm  \n",
            "   creating: bossbase_toy_dataset/test/stego/\n",
            "  inflating: bossbase_toy_dataset/test/stego/47.pgm  \n",
            "  inflating: bossbase_toy_dataset/test/stego/48.pgm  \n",
            "  inflating: bossbase_toy_dataset/test/stego/45.pgm  \n",
            "  inflating: bossbase_toy_dataset/test/stego/41.pgm  \n",
            "  inflating: bossbase_toy_dataset/test/stego/44.pgm  \n",
            "  inflating: bossbase_toy_dataset/test/stego/43.pgm  \n",
            "  inflating: bossbase_toy_dataset/test/stego/50.pgm  \n",
            "  inflating: bossbase_toy_dataset/test/stego/42.pgm  \n",
            "  inflating: bossbase_toy_dataset/test/stego/49.pgm  \n",
            "  inflating: bossbase_toy_dataset/test/stego/46.pgm  \n"
          ]
        }
      ]
    },
    {
      "cell_type": "code",
      "source": [
        "%cd /content/Pytorch-implementation-of-SRNet"
      ],
      "metadata": {
        "colab": {
          "base_uri": "https://localhost:8080/"
        },
        "id": "vcDF2xDxbZs4",
        "outputId": "cfcb10c6-303a-46c8-ab01-ccf026dea404"
      },
      "execution_count": null,
      "outputs": [
        {
          "output_type": "stream",
          "name": "stdout",
          "text": [
            "/content/Pytorch-implementation-of-SRNet\n"
          ]
        }
      ]
    },
    {
      "cell_type": "code",
      "source": [
        "!python train.py"
      ],
      "metadata": {
        "colab": {
          "base_uri": "https://localhost:8080/"
        },
        "id": "vcinGhA8cAuS",
        "outputId": "bbef9bd5-d2fa-4d0f-cf9e-2fe76574a8ff"
      },
      "execution_count": null,
      "outputs": [
        {
          "output_type": "stream",
          "name": "stdout",
          "text": [
            "No checkpoints found!!, Retraining started... \n",
            " Epoch:1/50 Batch:2/2 Loss:0.8972 Acc:50.00 LR:0.0010Traceback (most recent call last):\n",
            "  File \"/content/Pytorch-implementation-of-SRNet/train.py\", line 140, in <module>\n",
            "    for i, val_batch in enumerate(valid_loader):\n",
            "  File \"/usr/local/lib/python3.10/dist-packages/torch/utils/data/dataloader.py\", line 631, in __next__\n",
            "    data = self._next_data()\n",
            "  File \"/usr/local/lib/python3.10/dist-packages/torch/utils/data/dataloader.py\", line 675, in _next_data\n",
            "    data = self._dataset_fetcher.fetch(index)  # may raise StopIteration\n",
            "  File \"/usr/local/lib/python3.10/dist-packages/torch/utils/data/_utils/fetch.py\", line 51, in fetch\n",
            "    data = [self.dataset[idx] for idx in possibly_batched_index]\n",
            "  File \"/usr/local/lib/python3.10/dist-packages/torch/utils/data/_utils/fetch.py\", line 51, in <listcomp>\n",
            "    data = [self.dataset[idx] for idx in possibly_batched_index]\n",
            "  File \"/content/Pytorch-implementation-of-SRNet/dataset/dataset.py\", line 57, in __getitem__\n",
            "    cover_img = io.imread(os.path.join(self.cover, img_name))\n",
            "  File \"/usr/local/lib/python3.10/dist-packages/imageio/__init__.py\", line 97, in imread\n",
            "    return imread_v2(uri, format=format, **kwargs)\n",
            "  File \"/usr/local/lib/python3.10/dist-packages/imageio/v2.py\", line 359, in imread\n",
            "    with imopen(uri, \"ri\", **imopen_args) as file:\n",
            "  File \"/usr/local/lib/python3.10/dist-packages/imageio/core/imopen.py\", line 113, in imopen\n",
            "    request = Request(uri, io_mode, format_hint=format_hint, extension=extension)\n",
            "  File \"/usr/local/lib/python3.10/dist-packages/imageio/core/request.py\", line 247, in __init__\n",
            "    self._parse_uri(uri)\n",
            "  File \"/usr/local/lib/python3.10/dist-packages/imageio/core/request.py\", line 407, in _parse_uri\n",
            "    raise FileNotFoundError(\"No such file: '%s'\" % fn)\n",
            "FileNotFoundError: No such file: '/content/Pytorch-implementation-of-SRNet/Toy-Bossbase-dataset/bossbase_toy_dataset/valid/cover/1.pgm'\n"
          ]
        }
      ]
    },
    {
      "cell_type": "code",
      "source": [
        "!python train.py"
      ],
      "metadata": {
        "colab": {
          "base_uri": "https://localhost:8080/"
        },
        "outputId": "bbef9bd5-d2fa-4d0f-cf9e-2fe76574a8ff",
        "id": "tF8U8Z73f3sM"
      },
      "execution_count": null,
      "outputs": [
        {
          "output_type": "stream",
          "name": "stdout",
          "text": [
            "No checkpoints found!!, Retraining started... \n",
            " Epoch:1/50 Batch:2/2 Loss:0.8972 Acc:50.00 LR:0.0010Traceback (most recent call last):\n",
            "  File \"/content/Pytorch-implementation-of-SRNet/train.py\", line 140, in <module>\n",
            "    for i, val_batch in enumerate(valid_loader):\n",
            "  File \"/usr/local/lib/python3.10/dist-packages/torch/utils/data/dataloader.py\", line 631, in __next__\n",
            "    data = self._next_data()\n",
            "  File \"/usr/local/lib/python3.10/dist-packages/torch/utils/data/dataloader.py\", line 675, in _next_data\n",
            "    data = self._dataset_fetcher.fetch(index)  # may raise StopIteration\n",
            "  File \"/usr/local/lib/python3.10/dist-packages/torch/utils/data/_utils/fetch.py\", line 51, in fetch\n",
            "    data = [self.dataset[idx] for idx in possibly_batched_index]\n",
            "  File \"/usr/local/lib/python3.10/dist-packages/torch/utils/data/_utils/fetch.py\", line 51, in <listcomp>\n",
            "    data = [self.dataset[idx] for idx in possibly_batched_index]\n",
            "  File \"/content/Pytorch-implementation-of-SRNet/dataset/dataset.py\", line 57, in __getitem__\n",
            "    cover_img = io.imread(os.path.join(self.cover, img_name))\n",
            "  File \"/usr/local/lib/python3.10/dist-packages/imageio/__init__.py\", line 97, in imread\n",
            "    return imread_v2(uri, format=format, **kwargs)\n",
            "  File \"/usr/local/lib/python3.10/dist-packages/imageio/v2.py\", line 359, in imread\n",
            "    with imopen(uri, \"ri\", **imopen_args) as file:\n",
            "  File \"/usr/local/lib/python3.10/dist-packages/imageio/core/imopen.py\", line 113, in imopen\n",
            "    request = Request(uri, io_mode, format_hint=format_hint, extension=extension)\n",
            "  File \"/usr/local/lib/python3.10/dist-packages/imageio/core/request.py\", line 247, in __init__\n",
            "    self._parse_uri(uri)\n",
            "  File \"/usr/local/lib/python3.10/dist-packages/imageio/core/request.py\", line 407, in _parse_uri\n",
            "    raise FileNotFoundError(\"No such file: '%s'\" % fn)\n",
            "FileNotFoundError: No such file: '/content/Pytorch-implementation-of-SRNet/Toy-Bossbase-dataset/bossbase_toy_dataset/valid/cover/1.pgm'\n"
          ]
        }
      ]
    },
    {
      "cell_type": "code",
      "source": [],
      "metadata": {
        "id": "QclRZhMtRJcR"
      },
      "execution_count": null,
      "outputs": []
    },
    {
      "cell_type": "code",
      "source": [],
      "metadata": {
        "id": "CLcsiIc0RKbF"
      },
      "execution_count": null,
      "outputs": []
    },
    {
      "cell_type": "code",
      "source": [
        "\n",
        "!python train.py --cover_path \"/content/Pytorch-implementation-of-SRNet/Toy-Bossbase-dataset/bossbase_toy_dataset/train/cover\" \\\n",
        "                 --stego_path  \"/content/Pytorch-implementation-of-SRNet/Toy-Bossbase-dataset/bossbase_toy_dataset/train/stego\" \\\n",
        "                --valid_cover_path   \"/content/Pytorch-implementation-of-SRNet/Toy-Bossbase-dataset/bossbase_toy_dataset/valid/cover\" \\\n",
        "                --valid_stego_path \"/content/Pytorch-implementation-of-SRNet/Toy-Bossbase-dataset/bossbase_toy_dataset/valid/stego\"\n"
      ],
      "metadata": {
        "colab": {
          "base_uri": "https://localhost:8080/"
        },
        "outputId": "20214190-5b9c-4cef-8ae7-8be0d13668b1",
        "id": "pgeU6AuKf4BD"
      },
      "execution_count": null,
      "outputs": [
        {
          "output_type": "stream",
          "name": "stdout",
          "text": [
            "Model Loaded from epoch 51..\n"
          ]
        }
      ]
    },
    {
      "cell_type": "code",
      "source": [
        "\n",
        "!python train.py --cover_path \"/content/Pytorch-implementation-of-SRNet/Toy-Bossbase-dataset/bossbase_toy_dataset/train/cover\" \\\n",
        "                 --stego_path  \"/content/Pytorch-implementation-of-SRNet/Toy-Bossbase-dataset/bossbase_toy_dataset/train/stego\" \\\n",
        "                --valid_cover_path   \"/content/Pytorch-implementation-of-SRNet/Toy-Bossbase-dataset/bossbase_toy_dataset/valid/cover\" \\\n",
        "                --valid_stego_path \"/content/Pytorch-implementation-of-SRNet/Toy-Bossbase-dataset/bossbase_toy_dataset/valid/stego\""
      ],
      "metadata": {
        "colab": {
          "base_uri": "https://localhost:8080/"
        },
        "id": "AgzUDIIZVLMt",
        "outputId": "f5a10a0e-6588-4f56-a76f-3d3e658f421d"
      },
      "execution_count": null,
      "outputs": [
        {
          "output_type": "stream",
          "name": "stdout",
          "text": [
            "Model Loaded from epoch 51..\n"
          ]
        }
      ]
    }
  ]
}